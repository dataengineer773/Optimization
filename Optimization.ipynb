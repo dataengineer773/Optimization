{
 "cells": [
  {
   "cell_type": "code",
   "execution_count": null,
   "id": "06ff25a4",
   "metadata": {},
   "outputs": [],
   "source": [
    "#Optimizaion"
   ]
  },
  {
   "cell_type": "code",
   "execution_count": 8,
   "id": "2879c916",
   "metadata": {},
   "outputs": [
    {
     "name": "stdout",
     "output_type": "stream",
     "text": [
      "Requirement already satisfied: scipy in c:\\users\\dell\\anaconda3\\lib\\site-packages (1.11.1)\n",
      "Requirement already satisfied: numpy<1.28.0,>=1.21.6 in c:\\users\\dell\\anaconda3\\lib\\site-packages (from scipy) (1.24.3)\n",
      "Note: you may need to restart the kernel to use updated packages.\n"
     ]
    }
   ],
   "source": [
    "pip install scipy"
   ]
  },
  {
   "cell_type": "code",
   "execution_count": 14,
   "id": "fec53697",
   "metadata": {},
   "outputs": [
    {
     "name": "stdout",
     "output_type": "stream",
     "text": [
      "Requirement already satisfied: numpy in c:\\users\\dell\\anaconda3\\lib\\site-packages (1.24.3)\n",
      "Note: you may need to restart the kernel to use updated packages.\n"
     ]
    }
   ],
   "source": [
    "pip install numpy"
   ]
  },
  {
   "cell_type": "code",
   "execution_count": 15,
   "id": "e570278e",
   "metadata": {},
   "outputs": [],
   "source": [
    "import numpy as np"
   ]
  },
  {
   "cell_type": "code",
   "execution_count": 9,
   "id": "458707c2",
   "metadata": {},
   "outputs": [],
   "source": [
    "from scipy.optimize import minimize"
   ]
  },
  {
   "cell_type": "code",
   "execution_count": 10,
   "id": "fa0d79a5",
   "metadata": {},
   "outputs": [],
   "source": [
    "ans = minimize(lambda x: x**2 + 1, method = 'nelder-mead', x0=10)"
   ]
  },
  {
   "cell_type": "code",
   "execution_count": 11,
   "id": "7de6cec4",
   "metadata": {},
   "outputs": [
    {
     "data": {
      "text/plain": [
       "       message: Optimization terminated successfully.\n",
       "       success: True\n",
       "        status: 0\n",
       "           fun: 1.0\n",
       "             x: [ 0.000e+00]\n",
       "           nit: 21\n",
       "          nfev: 42\n",
       " final_simplex: (array([[ 0.000e+00],\n",
       "                       [-6.104e-05]]), array([ 1.000e+00,  1.000e+00]))"
      ]
     },
     "execution_count": 11,
     "metadata": {},
     "output_type": "execute_result"
    }
   ],
   "source": [
    "ans"
   ]
  },
  {
   "cell_type": "code",
   "execution_count": 12,
   "id": "bd1f3e38",
   "metadata": {},
   "outputs": [
    {
     "data": {
      "text/plain": [
       "array([0.])"
      ]
     },
     "execution_count": 12,
     "metadata": {},
     "output_type": "execute_result"
    }
   ],
   "source": [
    "ans.x#مقدار X"
   ]
  },
  {
   "cell_type": "code",
   "execution_count": 13,
   "id": "fef9c01a",
   "metadata": {},
   "outputs": [
    {
     "data": {
      "text/plain": [
       "1.0"
      ]
     },
     "execution_count": 13,
     "metadata": {},
     "output_type": "execute_result"
    }
   ],
   "source": [
    "ans.fun#مقدار تابع"
   ]
  },
  {
   "cell_type": "code",
   "execution_count": 20,
   "id": "33c48295",
   "metadata": {},
   "outputs": [
    {
     "name": "stdout",
     "output_type": "stream",
     "text": [
      "Optimization terminated successfully.\n"
     ]
    }
   ],
   "source": [
    "# ans = minimize(lamba x: np.sum(x**2)+ 1, method = 'nelder=mead', x0=np.array([10, 10]))#توابع چند متغییره\n",
    "# print(ans.message)#np.array([10, 10, 10, 10])Whoul be 3 or 4 dimenssional\n",
    "ans = minimize(lambda x: np.sum(x**2) + 1, method = 'nelder-mead', x0=np.array([10, 10]))\n",
    "print(ans.message)"
   ]
  },
  {
   "cell_type": "code",
   "execution_count": 21,
   "id": "67273312",
   "metadata": {},
   "outputs": [
    {
     "data": {
      "text/plain": [
       "       message: Optimization terminated successfully.\n",
       "       success: True\n",
       "        status: 0\n",
       "           fun: 1.0000000006830416\n",
       "             x: [ 1.496e-05  2.143e-05]\n",
       "           nit: 46\n",
       "          nfev: 83\n",
       " final_simplex: (array([[ 1.496e-05,  2.143e-05],\n",
       "                       [-6.661e-05, -3.877e-05],\n",
       "                       [-4.350e-05,  6.962e-05]]), array([ 1.000e+00,  1.000e+00,  1.000e+00]))"
      ]
     },
     "execution_count": 21,
     "metadata": {},
     "output_type": "execute_result"
    }
   ],
   "source": [
    "ans"
   ]
  },
  {
   "cell_type": "code",
   "execution_count": 22,
   "id": "1ac78e69",
   "metadata": {},
   "outputs": [],
   "source": [
    "#(x + 2y - y)^2 + (2x + y - 5)^2"
   ]
  },
  {
   "cell_type": "code",
   "execution_count": 23,
   "id": "2d7902e6",
   "metadata": {},
   "outputs": [],
   "source": [
    "def f(x):\n",
    "    return( x[0] + 2*x[1] - 7)**2 + (2*x[0] + x[1] - 5)**2"
   ]
  },
  {
   "cell_type": "code",
   "execution_count": 24,
   "id": "d4b8e930",
   "metadata": {},
   "outputs": [
    {
     "name": "stdout",
     "output_type": "stream",
     "text": [
      "Optimization terminated successfully.\n",
      "[1.49644896e-05 2.14267502e-05] 1.0000000006830416\n"
     ]
    }
   ],
   "source": [
    "ans = minimize(lambda x: np.sum(x**2) + 1, method = 'nelder-mead', x0=np.array([10, 10]))\n",
    "print(ans.message)\n",
    "print(ans.x, ans.fun)"
   ]
  },
  {
   "cell_type": "code",
   "execution_count": 25,
   "id": "9cf5a71c",
   "metadata": {},
   "outputs": [
    {
     "name": "stdout",
     "output_type": "stream",
     "text": [
      "Optimization terminated successfully.\n",
      "[1.00000346 3.00001143] 1.029458242212379e-09\n"
     ]
    }
   ],
   "source": [
    "ans = minimize(lambda x: (x[0] + 2*x[1] - 7)**2 + (2*x[0] + x[1] - 5)**2, method = 'nelder-mead', x0=np.array([10, 10]))\n",
    "print(ans.message)\n",
    "print(ans.x, ans.fun)"
   ]
  },
  {
   "cell_type": "code",
   "execution_count": 28,
   "id": "511cadc8",
   "metadata": {},
   "outputs": [
    {
     "data": {
      "text/plain": [
       " message: Optimization terminated successfully.\n",
       " success: True\n",
       "  status: 0\n",
       "     fun: 1.0\n",
       "       x: [-2.114e-13 -2.114e-13 -2.114e-13 -2.114e-13]\n",
       "     nit: 1\n",
       "     jac: [-4.228e-13 -4.228e-13 -4.228e-13 -4.228e-13]\n",
       "    nfev: 4\n",
       "    njev: 4"
      ]
     },
     "execution_count": 28,
     "metadata": {},
     "output_type": "execute_result"
    }
   ],
   "source": [
    "ans"
   ]
  },
  {
   "cell_type": "code",
   "execution_count": 26,
   "id": "baa445ce",
   "metadata": {},
   "outputs": [
    {
     "name": "stdout",
     "output_type": "stream",
     "text": [
      "Optimization terminated successfully.\n",
      "[-2.11386464e-13 -2.11386464e-13 -2.11386464e-13 -2.11386464e-13] 1.0\n"
     ]
    }
   ],
   "source": [
    "ans = minimize(lambda x: np.sum(x**2) + 1,\n",
    "               method = 'CG',\n",
    "               x0=np.array([10, 10, 10, 10]),\n",
    "              jac=lambda x : 2*x)\n",
    "print(ans.message)\n",
    "print(ans.x, ans.fun)"
   ]
  },
  {
   "cell_type": "code",
   "execution_count": 27,
   "id": "c4f29b25",
   "metadata": {},
   "outputs": [
    {
     "data": {
      "text/plain": [
       " message: Optimization terminated successfully.\n",
       " success: True\n",
       "  status: 0\n",
       "     fun: 1.0\n",
       "       x: [-2.114e-13 -2.114e-13 -2.114e-13 -2.114e-13]\n",
       "     nit: 1\n",
       "     jac: [-4.228e-13 -4.228e-13 -4.228e-13 -4.228e-13]\n",
       "    nfev: 4\n",
       "    njev: 4"
      ]
     },
     "execution_count": 27,
     "metadata": {},
     "output_type": "execute_result"
    }
   ],
   "source": [
    "ans"
   ]
  },
  {
   "cell_type": "code",
   "execution_count": null,
   "id": "9326b82b",
   "metadata": {},
   "outputs": [],
   "source": [
    "#Gradient algorithms have a high Basiler convergence coefficient"
   ]
  },
  {
   "cell_type": "code",
   "execution_count": 29,
   "id": "eae19986",
   "metadata": {},
   "outputs": [
    {
     "name": "stdout",
     "output_type": "stream",
     "text": [
      "Optimization terminated successfully.\n",
      "[-2.11386464e-13 -2.11386464e-13 -2.11386464e-13 -2.11386464e-13] 1.0\n"
     ]
    }
   ],
   "source": [
    "def Beale(x):\n",
    "    return( 1.5 - x[0] + x[0]*x[1])**2 + ( 2.25 - x[0] + x[0]*x[1]**2)**2 + ( 2.625 - x[0] + x[0]*x[1]**3)**2\n",
    "print(ans.message)\n",
    "print(ans.x, ans.fun)"
   ]
  },
  {
   "cell_type": "code",
   "execution_count": 32,
   "id": "823d3e92",
   "metadata": {},
   "outputs": [
    {
     "name": "stdout",
     "output_type": "stream",
     "text": [
      "Optimization terminated successfully.\n",
      "[2.9999593  0.49998973] 2.659159941599466e-10\n"
     ]
    }
   ],
   "source": [
    "ans = minimize(Beale,\n",
    "               method = 'nelder-mead',\n",
    "               x0=np.array([10, 10]))\n",
    "              \n",
    "print(ans.message)\n",
    "print(ans.x, ans.fun)    "
   ]
  },
  {
   "cell_type": "code",
   "execution_count": 31,
   "id": "86277157",
   "metadata": {},
   "outputs": [
    {
     "data": {
      "text/plain": [
       "       message: Optimization terminated successfully.\n",
       "       success: True\n",
       "        status: 0\n",
       "           fun: 2.659159941599466e-10\n",
       "             x: [ 3.000e+00  5.000e-01]\n",
       "           nit: 97\n",
       "          nfev: 185\n",
       " final_simplex: (array([[ 3.000e+00,  5.000e-01],\n",
       "                       [ 3.000e+00,  5.000e-01],\n",
       "                       [ 3.000e+00,  5.000e-01]]), array([ 2.659e-10,  3.761e-10,  2.268e-09]))"
      ]
     },
     "execution_count": 31,
     "metadata": {},
     "output_type": "execute_result"
    }
   ],
   "source": [
    "ans"
   ]
  },
  {
   "cell_type": "code",
   "execution_count": null,
   "id": "a836178b",
   "metadata": {},
   "outputs": [],
   "source": [
    "#The starting point should be close to the optimum point, and if not, the function may not be able to optimize"
   ]
  }
 ],
 "metadata": {
  "kernelspec": {
   "display_name": "Python 3 (ipykernel)",
   "language": "python",
   "name": "python3"
  },
  "language_info": {
   "codemirror_mode": {
    "name": "ipython",
    "version": 3
   },
   "file_extension": ".py",
   "mimetype": "text/x-python",
   "name": "python",
   "nbconvert_exporter": "python",
   "pygments_lexer": "ipython3",
   "version": "3.11.5"
  }
 },
 "nbformat": 4,
 "nbformat_minor": 5
}
